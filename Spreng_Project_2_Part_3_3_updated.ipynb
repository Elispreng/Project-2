{
  "nbformat": 4,
  "nbformat_minor": 0,
  "metadata": {
    "colab": {
      "provenance": [],
      "toc_visible": true,
      "mount_file_id": "1u-7Dhi06EmGYX8vIKF3uFfVhVE1hnVMx",
      "authorship_tag": "ABX9TyP+LWM3q6VAgOZSz04nWGQC",
      "include_colab_link": true
    },
    "kernelspec": {
      "name": "python3",
      "display_name": "Python 3"
    },
    "language_info": {
      "name": "python"
    }
  },
  "cells": [
    {
      "cell_type": "markdown",
      "metadata": {
        "id": "view-in-github",
        "colab_type": "text"
      },
      "source": [
        "<a href=\"https://colab.research.google.com/github/Elispreng/Project-2/blob/main/Spreng_Project_2_Part_3_3_updated.ipynb\" target=\"_parent\"><img src=\"https://colab.research.google.com/assets/colab-badge.svg\" alt=\"Open In Colab\"/></a>"
      ]
    },
    {
      "cell_type": "markdown",
      "source": [
        "# Load data and libraries"
      ],
      "metadata": {
        "id": "e0Td1xmh23o4"
      }
    },
    {
      "cell_type": "code",
      "source": [
        "#import libraries and metrics \n",
        "\n",
        "# Visuals\n",
        "import matplotlib.pyplot as plt\n",
        "import seaborn as sns\n",
        "\n",
        "## Preprocessing\n",
        "from sklearn.model_selection import train_test_split\n",
        "from sklearn.compose import make_column_selector\n",
        "from sklearn.preprocessing import StandardScaler, OneHotEncoder\n",
        "from sklearn.impute import SimpleImputer\n",
        "from sklearn.pipeline import make_pipeline\n",
        "from sklearn.compose import make_column_transformer\n",
        "from sklearn.compose import ColumnTransformer\n",
        "from sklearn.decomposition import PCA\n",
        "from sklearn.pipeline import Pipeline\n",
        "\n",
        "#Classification Libraries\n",
        "from sklearn.neighbors import KNeighborsClassifier\n",
        "from sklearn.linear_model import LogisticRegression\n",
        "from sklearn.tree import DecisionTreeClassifier\n",
        "from sklearn.ensemble import BaggingClassifier\n",
        "from sklearn.ensemble import RandomForestClassifier\n",
        "from sklearn.model_selection import GridSearchCV\n",
        "from sklearn.dummy import DummyClassifier\n",
        "\n",
        "\n",
        "## Tree Model Visualization\n",
        "from sklearn.tree import plot_tree\n",
        "\n",
        "from scipy import stats\n",
        "\n",
        "\n",
        "## Classification Metrics\n",
        "from sklearn.metrics import (roc_auc_score, ConfusionMatrixDisplay, \n",
        "                             PrecisionRecallDisplay, RocCurveDisplay, \n",
        "                             f1_score, accuracy_score, classification_report)\n",
        "\n",
        "## Set global scikit-learn configuration \n",
        "from sklearn import set_config\n",
        "## Display estimators as a diagram\n",
        "set_config(display='diagram') # 'text' or 'diagram'}\n",
        "\n",
        "##Set up configuation display\n",
        "from sklearn import set_config\n",
        "set_config(display='diagram') # 'text' or 'diagram'}\n"
      ],
      "metadata": {
        "id": "qKfiDvPc4bKo"
      },
      "execution_count": 2,
      "outputs": []
    },
    {
      "cell_type": "code",
      "source": [
        "## Create a function to display the classification metrics of a model\n",
        "def classification_metrics(model, X_test, y_test, label='Test Data', \n",
        "                             figsize=(15,5), normalize='true',\n",
        "                             cmap='Greens'): \n",
        "                             \n",
        "    fig, axes = plt.subplots(1,2, figsize=figsize)\n",
        "\n",
        "    ## Get the predictions\n",
        "    y_pred = model.predict(X_test)\n",
        "     \n",
        "   ## Print classification report for the test data (and make it pretty!)\n",
        "    print('---'*20)\n",
        "    print(f\"[i] CLASSIFICATION REPORT FOR: {label}\")\n",
        "    print('---'*20)\n",
        "\n",
        "    print(classification_report(y_test, y_pred))\n",
        "\n",
        "    ConfusionMatrixDisplay.from_predictions(y_test,y_pred, \n",
        "                normalize=normalize, cmap=cmap,              \n",
        "                ax=axes[0])    \n",
        "    \n",
        "    RocCurveDisplay.from_estimator(model, X_test, y_test,\n",
        "                                   ax=axes[1])\n",
        "    plt.show()"
      ],
      "metadata": {
        "id": "mpaEvwOeVB5K"
      },
      "execution_count": 3,
      "outputs": []
    },
    {
      "cell_type": "code",
      "source": [
        "# Create a function to display supplemental statistics \n",
        "def outlier_statistics(df, column_name):\n",
        "    \n",
        "    # Determine Outliers - Only if this is a numeric column\n",
        "    if (df[column_name].dtype == 'int64') | (df[column_name].dtype == 'float64'):\n",
        "        # Create outlier filters\n",
        "        q1 = df[column_name].quantile(0.25) # 25th percentile\n",
        "        q3 = df[column_name].quantile(0.75) # 75th percentile\n",
        "        iqr = q3 - q1 # Interquartile range\n",
        "        low_limit = q1 - (1.5 * iqr) # low limit\n",
        "        high_limit = q3 + (1.5 * iqr) # high limit\n",
        "        # Create outlier dataframes\n",
        "        low_df = df[(df[column_name] < low_limit)]\n",
        "        high_df = df[(df[column_name] > high_limit)]\n",
        "        # Calculate the outlier counts and percentages\n",
        "        low_oulier_count = low_df.shape[0]\n",
        "        low_outlier_percentge = round(((low_oulier_count)/(df.shape[0])*100),1)\n",
        "        high_oulier_count = high_df.shape[0]\n",
        "        high_outlier_percentge = round(((high_oulier_count)/(df.shape[0])*100),1)\n",
        "        # Display the outlier counts.\n",
        "        print(f'Outliers: {low_oulier_count} ({low_outlier_percentge})% low, {high_oulier_count} ({high_outlier_percentge})% high')"
      ],
      "metadata": {
        "id": "D2XLaPRXcO6o"
      },
      "execution_count": 4,
      "outputs": []
    },
    {
      "cell_type": "code",
      "source": [
        "# import pandas, numpy and load google drive\n",
        "import pandas as pd\n",
        "import numpy as np\n",
        "\n",
        "from google.colab import drive\n"
      ],
      "metadata": {
        "id": "UYjb3G8R3RV8"
      },
      "execution_count": 5,
      "outputs": []
    },
    {
      "cell_type": "code",
      "source": [
        "#load data and create dataframe\n",
        "filename2 = '/content/drive/MyDrive/Project 2/adult[1].csv'\n",
        "adult_df = pd.read_csv(filename2)"
      ],
      "metadata": {
        "id": "icGvK73mAcEx"
      },
      "execution_count": 6,
      "outputs": []
    },
    {
      "cell_type": "markdown",
      "source": [
        "# Data Preparation and Initial Cleaning"
      ],
      "metadata": {
        "id": "mWRRvnTR3GbI"
      }
    },
    {
      "cell_type": "markdown",
      "source": [
        "## Inspect Data"
      ],
      "metadata": {
        "id": "nBcMuQox3Bg4"
      }
    },
    {
      "cell_type": "code",
      "source": [
        "#  Inspect the first (5) rows of the dataframe\n",
        "adult_df.head()"
      ],
      "metadata": {
        "colab": {
          "base_uri": "https://localhost:8080/",
          "height": 444
        },
        "id": "_ZPolt9p3Xxy",
        "outputId": "e050fd70-0c96-4a5a-8ce8-2d58e5c49fe2"
      },
      "execution_count": 7,
      "outputs": [
        {
          "output_type": "execute_result",
          "data": {
            "text/plain": [
              "   age  workclass  fnlwgt     education  educational-num      marital-status  \\\n",
              "0   25    Private  226802          11th                7       Never-married   \n",
              "1   38    Private   89814       HS-grad                9  Married-civ-spouse   \n",
              "2   28  Local-gov  336951    Assoc-acdm               12  Married-civ-spouse   \n",
              "3   44    Private  160323  Some-college               10  Married-civ-spouse   \n",
              "4   18          ?  103497  Some-college               10       Never-married   \n",
              "\n",
              "          occupation relationship   race  gender  capital-gain  capital-loss  \\\n",
              "0  Machine-op-inspct    Own-child  Black    Male             0             0   \n",
              "1    Farming-fishing      Husband  White    Male             0             0   \n",
              "2    Protective-serv      Husband  White    Male             0             0   \n",
              "3  Machine-op-inspct      Husband  Black    Male          7688             0   \n",
              "4                  ?    Own-child  White  Female             0             0   \n",
              "\n",
              "   hours-per-week native-country income  \n",
              "0              40  United-States  <=50K  \n",
              "1              50  United-States  <=50K  \n",
              "2              40  United-States   >50K  \n",
              "3              40  United-States   >50K  \n",
              "4              30  United-States  <=50K  "
            ],
            "text/html": [
              "\n",
              "  <div id=\"df-530176a6-54a8-4659-ab44-a1a4a76328c3\">\n",
              "    <div class=\"colab-df-container\">\n",
              "      <div>\n",
              "<style scoped>\n",
              "    .dataframe tbody tr th:only-of-type {\n",
              "        vertical-align: middle;\n",
              "    }\n",
              "\n",
              "    .dataframe tbody tr th {\n",
              "        vertical-align: top;\n",
              "    }\n",
              "\n",
              "    .dataframe thead th {\n",
              "        text-align: right;\n",
              "    }\n",
              "</style>\n",
              "<table border=\"1\" class=\"dataframe\">\n",
              "  <thead>\n",
              "    <tr style=\"text-align: right;\">\n",
              "      <th></th>\n",
              "      <th>age</th>\n",
              "      <th>workclass</th>\n",
              "      <th>fnlwgt</th>\n",
              "      <th>education</th>\n",
              "      <th>educational-num</th>\n",
              "      <th>marital-status</th>\n",
              "      <th>occupation</th>\n",
              "      <th>relationship</th>\n",
              "      <th>race</th>\n",
              "      <th>gender</th>\n",
              "      <th>capital-gain</th>\n",
              "      <th>capital-loss</th>\n",
              "      <th>hours-per-week</th>\n",
              "      <th>native-country</th>\n",
              "      <th>income</th>\n",
              "    </tr>\n",
              "  </thead>\n",
              "  <tbody>\n",
              "    <tr>\n",
              "      <th>0</th>\n",
              "      <td>25</td>\n",
              "      <td>Private</td>\n",
              "      <td>226802</td>\n",
              "      <td>11th</td>\n",
              "      <td>7</td>\n",
              "      <td>Never-married</td>\n",
              "      <td>Machine-op-inspct</td>\n",
              "      <td>Own-child</td>\n",
              "      <td>Black</td>\n",
              "      <td>Male</td>\n",
              "      <td>0</td>\n",
              "      <td>0</td>\n",
              "      <td>40</td>\n",
              "      <td>United-States</td>\n",
              "      <td>&lt;=50K</td>\n",
              "    </tr>\n",
              "    <tr>\n",
              "      <th>1</th>\n",
              "      <td>38</td>\n",
              "      <td>Private</td>\n",
              "      <td>89814</td>\n",
              "      <td>HS-grad</td>\n",
              "      <td>9</td>\n",
              "      <td>Married-civ-spouse</td>\n",
              "      <td>Farming-fishing</td>\n",
              "      <td>Husband</td>\n",
              "      <td>White</td>\n",
              "      <td>Male</td>\n",
              "      <td>0</td>\n",
              "      <td>0</td>\n",
              "      <td>50</td>\n",
              "      <td>United-States</td>\n",
              "      <td>&lt;=50K</td>\n",
              "    </tr>\n",
              "    <tr>\n",
              "      <th>2</th>\n",
              "      <td>28</td>\n",
              "      <td>Local-gov</td>\n",
              "      <td>336951</td>\n",
              "      <td>Assoc-acdm</td>\n",
              "      <td>12</td>\n",
              "      <td>Married-civ-spouse</td>\n",
              "      <td>Protective-serv</td>\n",
              "      <td>Husband</td>\n",
              "      <td>White</td>\n",
              "      <td>Male</td>\n",
              "      <td>0</td>\n",
              "      <td>0</td>\n",
              "      <td>40</td>\n",
              "      <td>United-States</td>\n",
              "      <td>&gt;50K</td>\n",
              "    </tr>\n",
              "    <tr>\n",
              "      <th>3</th>\n",
              "      <td>44</td>\n",
              "      <td>Private</td>\n",
              "      <td>160323</td>\n",
              "      <td>Some-college</td>\n",
              "      <td>10</td>\n",
              "      <td>Married-civ-spouse</td>\n",
              "      <td>Machine-op-inspct</td>\n",
              "      <td>Husband</td>\n",
              "      <td>Black</td>\n",
              "      <td>Male</td>\n",
              "      <td>7688</td>\n",
              "      <td>0</td>\n",
              "      <td>40</td>\n",
              "      <td>United-States</td>\n",
              "      <td>&gt;50K</td>\n",
              "    </tr>\n",
              "    <tr>\n",
              "      <th>4</th>\n",
              "      <td>18</td>\n",
              "      <td>?</td>\n",
              "      <td>103497</td>\n",
              "      <td>Some-college</td>\n",
              "      <td>10</td>\n",
              "      <td>Never-married</td>\n",
              "      <td>?</td>\n",
              "      <td>Own-child</td>\n",
              "      <td>White</td>\n",
              "      <td>Female</td>\n",
              "      <td>0</td>\n",
              "      <td>0</td>\n",
              "      <td>30</td>\n",
              "      <td>United-States</td>\n",
              "      <td>&lt;=50K</td>\n",
              "    </tr>\n",
              "  </tbody>\n",
              "</table>\n",
              "</div>\n",
              "      <button class=\"colab-df-convert\" onclick=\"convertToInteractive('df-530176a6-54a8-4659-ab44-a1a4a76328c3')\"\n",
              "              title=\"Convert this dataframe to an interactive table.\"\n",
              "              style=\"display:none;\">\n",
              "        \n",
              "  <svg xmlns=\"http://www.w3.org/2000/svg\" height=\"24px\"viewBox=\"0 0 24 24\"\n",
              "       width=\"24px\">\n",
              "    <path d=\"M0 0h24v24H0V0z\" fill=\"none\"/>\n",
              "    <path d=\"M18.56 5.44l.94 2.06.94-2.06 2.06-.94-2.06-.94-.94-2.06-.94 2.06-2.06.94zm-11 1L8.5 8.5l.94-2.06 2.06-.94-2.06-.94L8.5 2.5l-.94 2.06-2.06.94zm10 10l.94 2.06.94-2.06 2.06-.94-2.06-.94-.94-2.06-.94 2.06-2.06.94z\"/><path d=\"M17.41 7.96l-1.37-1.37c-.4-.4-.92-.59-1.43-.59-.52 0-1.04.2-1.43.59L10.3 9.45l-7.72 7.72c-.78.78-.78 2.05 0 2.83L4 21.41c.39.39.9.59 1.41.59.51 0 1.02-.2 1.41-.59l7.78-7.78 2.81-2.81c.8-.78.8-2.07 0-2.86zM5.41 20L4 18.59l7.72-7.72 1.47 1.35L5.41 20z\"/>\n",
              "  </svg>\n",
              "      </button>\n",
              "      \n",
              "  <style>\n",
              "    .colab-df-container {\n",
              "      display:flex;\n",
              "      flex-wrap:wrap;\n",
              "      gap: 12px;\n",
              "    }\n",
              "\n",
              "    .colab-df-convert {\n",
              "      background-color: #E8F0FE;\n",
              "      border: none;\n",
              "      border-radius: 50%;\n",
              "      cursor: pointer;\n",
              "      display: none;\n",
              "      fill: #1967D2;\n",
              "      height: 32px;\n",
              "      padding: 0 0 0 0;\n",
              "      width: 32px;\n",
              "    }\n",
              "\n",
              "    .colab-df-convert:hover {\n",
              "      background-color: #E2EBFA;\n",
              "      box-shadow: 0px 1px 2px rgba(60, 64, 67, 0.3), 0px 1px 3px 1px rgba(60, 64, 67, 0.15);\n",
              "      fill: #174EA6;\n",
              "    }\n",
              "\n",
              "    [theme=dark] .colab-df-convert {\n",
              "      background-color: #3B4455;\n",
              "      fill: #D2E3FC;\n",
              "    }\n",
              "\n",
              "    [theme=dark] .colab-df-convert:hover {\n",
              "      background-color: #434B5C;\n",
              "      box-shadow: 0px 1px 3px 1px rgba(0, 0, 0, 0.15);\n",
              "      filter: drop-shadow(0px 1px 2px rgba(0, 0, 0, 0.3));\n",
              "      fill: #FFFFFF;\n",
              "    }\n",
              "  </style>\n",
              "\n",
              "      <script>\n",
              "        const buttonEl =\n",
              "          document.querySelector('#df-530176a6-54a8-4659-ab44-a1a4a76328c3 button.colab-df-convert');\n",
              "        buttonEl.style.display =\n",
              "          google.colab.kernel.accessAllowed ? 'block' : 'none';\n",
              "\n",
              "        async function convertToInteractive(key) {\n",
              "          const element = document.querySelector('#df-530176a6-54a8-4659-ab44-a1a4a76328c3');\n",
              "          const dataTable =\n",
              "            await google.colab.kernel.invokeFunction('convertToInteractive',\n",
              "                                                     [key], {});\n",
              "          if (!dataTable) return;\n",
              "\n",
              "          const docLinkHtml = 'Like what you see? Visit the ' +\n",
              "            '<a target=\"_blank\" href=https://colab.research.google.com/notebooks/data_table.ipynb>data table notebook</a>'\n",
              "            + ' to learn more about interactive tables.';\n",
              "          element.innerHTML = '';\n",
              "          dataTable['output_type'] = 'display_data';\n",
              "          await google.colab.output.renderOutput(dataTable, element);\n",
              "          const docLink = document.createElement('div');\n",
              "          docLink.innerHTML = docLinkHtml;\n",
              "          element.appendChild(docLink);\n",
              "        }\n",
              "      </script>\n",
              "    </div>\n",
              "  </div>\n",
              "  "
            ]
          },
          "metadata": {},
          "execution_count": 7
        }
      ]
    },
    {
      "cell_type": "markdown",
      "source": [
        "- The data has loaded correctly. "
      ],
      "metadata": {
        "id": "nGS_tBQD3fnE"
      }
    },
    {
      "cell_type": "code",
      "source": [
        "## Display the number of rows and columns for the dataframe\n",
        "adult_df.shape\n",
        "print(f'There are {adult_df.shape[0]} rows, and {adult_df.shape[1]} columns.')\n",
        "print(f'The rows represent {adult_df.shape[0]} participants, and the columns represent {adult_df. shape[1]-1} features and 1 target variable.')"
      ],
      "metadata": {
        "colab": {
          "base_uri": "https://localhost:8080/"
        },
        "id": "K2_G8cyF3peT",
        "outputId": "198037b3-183a-4f77-ee0f-3635e4761b87"
      },
      "execution_count": 8,
      "outputs": [
        {
          "output_type": "stream",
          "name": "stdout",
          "text": [
            "There are 48842 rows, and 15 columns.\n",
            "The rows represent 48842 participants, and the columns represent 14 features and 1 target variable.\n"
          ]
        }
      ]
    },
    {
      "cell_type": "code",
      "source": [
        "# check the info\n",
        "adult_df.info()"
      ],
      "metadata": {
        "colab": {
          "base_uri": "https://localhost:8080/"
        },
        "id": "XJ0tdyashSh6",
        "outputId": "09f77aa6-eb1c-4e80-ca7c-c0e850e18a6d"
      },
      "execution_count": 9,
      "outputs": [
        {
          "output_type": "stream",
          "name": "stdout",
          "text": [
            "<class 'pandas.core.frame.DataFrame'>\n",
            "RangeIndex: 48842 entries, 0 to 48841\n",
            "Data columns (total 15 columns):\n",
            " #   Column           Non-Null Count  Dtype \n",
            "---  ------           --------------  ----- \n",
            " 0   age              48842 non-null  int64 \n",
            " 1   workclass        48842 non-null  object\n",
            " 2   fnlwgt           48842 non-null  int64 \n",
            " 3   education        48842 non-null  object\n",
            " 4   educational-num  48842 non-null  int64 \n",
            " 5   marital-status   48842 non-null  object\n",
            " 6   occupation       48842 non-null  object\n",
            " 7   relationship     48842 non-null  object\n",
            " 8   race             48842 non-null  object\n",
            " 9   gender           48842 non-null  object\n",
            " 10  capital-gain     48842 non-null  int64 \n",
            " 11  capital-loss     48842 non-null  int64 \n",
            " 12  hours-per-week   48842 non-null  int64 \n",
            " 13  native-country   48842 non-null  object\n",
            " 14  income           48842 non-null  object\n",
            "dtypes: int64(6), object(9)\n",
            "memory usage: 5.6+ MB\n"
          ]
        }
      ]
    },
    {
      "cell_type": "markdown",
      "source": [
        "### Inspect Columns for Datatypes"
      ],
      "metadata": {
        "id": "JemIDidH_SDs"
      }
    },
    {
      "cell_type": "code",
      "source": [
        "## Display column names and datatypes\n",
        "adult_df.dtypes"
      ],
      "metadata": {
        "id": "OpQENQETM_Gq",
        "colab": {
          "base_uri": "https://localhost:8080/"
        },
        "outputId": "e2bceb3c-fa9a-4d09-df36-b0d2802f3c46"
      },
      "execution_count": 10,
      "outputs": [
        {
          "output_type": "execute_result",
          "data": {
            "text/plain": [
              "age                 int64\n",
              "workclass          object\n",
              "fnlwgt              int64\n",
              "education          object\n",
              "educational-num     int64\n",
              "marital-status     object\n",
              "occupation         object\n",
              "relationship       object\n",
              "race               object\n",
              "gender             object\n",
              "capital-gain        int64\n",
              "capital-loss        int64\n",
              "hours-per-week      int64\n",
              "native-country     object\n",
              "income             object\n",
              "dtype: object"
            ]
          },
          "metadata": {},
          "execution_count": 10
        }
      ]
    },
    {
      "cell_type": "markdown",
      "source": [
        "- All columns datatyoes appear correct. "
      ],
      "metadata": {
        "id": "ofN2q6QTBrlb"
      }
    },
    {
      "cell_type": "markdown",
      "source": [
        "### Inspect Column Names for Errors"
      ],
      "metadata": {
        "id": "RPXZPSiB_ZMi"
      }
    },
    {
      "cell_type": "code",
      "source": [
        "## Display column names\n",
        "adult_df.columns"
      ],
      "metadata": {
        "id": "c0rNstvRNA-N",
        "colab": {
          "base_uri": "https://localhost:8080/"
        },
        "outputId": "f039b4dd-874a-4adc-9fc2-ef8e30d86849"
      },
      "execution_count": 11,
      "outputs": [
        {
          "output_type": "execute_result",
          "data": {
            "text/plain": [
              "Index(['age', 'workclass', 'fnlwgt', 'education', 'educational-num',\n",
              "       'marital-status', 'occupation', 'relationship', 'race', 'gender',\n",
              "       'capital-gain', 'capital-loss', 'hours-per-week', 'native-country',\n",
              "       'income'],\n",
              "      dtype='object')"
            ]
          },
          "metadata": {},
          "execution_count": 11
        }
      ]
    },
    {
      "cell_type": "markdown",
      "source": [
        "### Inspect Values for Errors\n"
      ],
      "metadata": {
        "id": "3eJJC4nx_e1h"
      }
    },
    {
      "cell_type": "markdown",
      "source": [
        "## Clean the data"
      ],
      "metadata": {
        "id": "ru_yfW5e-xZ_"
      }
    },
    {
      "cell_type": "markdown",
      "source": [
        "### Remove Unnecessary Columns\n"
      ],
      "metadata": {
        "id": "FNsO6YVl-9S3"
      }
    },
    {
      "cell_type": "markdown",
      "source": [
        "- There are not any unnecessary columns."
      ],
      "metadata": {
        "id": "5qPDjP4W4tw0"
      }
    },
    {
      "cell_type": "markdown",
      "source": [
        "### Remove Unnecessary Rows"
      ],
      "metadata": {
        "id": "xsEHKH1G_HWU"
      }
    },
    {
      "cell_type": "markdown",
      "source": [
        "### Duplicates"
      ],
      "metadata": {
        "id": "UDE7AdUb_NMl"
      }
    },
    {
      "cell_type": "code",
      "source": [
        "# Display the number of duplicate rows\n",
        "print(f'There are {adult_df.duplicated().sum()} duplicate rows.')"
      ],
      "metadata": {
        "colab": {
          "base_uri": "https://localhost:8080/"
        },
        "id": "fPvDl_o15MwD",
        "outputId": "99795925-55a2-4d44-f5cc-1f7a84f8a0a9"
      },
      "execution_count": 12,
      "outputs": [
        {
          "output_type": "stream",
          "name": "stdout",
          "text": [
            "There are 52 duplicate rows.\n"
          ]
        }
      ]
    },
    {
      "cell_type": "code",
      "source": [
        "# Drop duplicate rows\n",
        "adult_df = adult_df.drop_duplicates()"
      ],
      "metadata": {
        "id": "QZ4s_Sfa5Yts"
      },
      "execution_count": 13,
      "outputs": []
    },
    {
      "cell_type": "code",
      "source": [
        "# Check for duplicates\n",
        "adult_df.duplicated().sum()"
      ],
      "metadata": {
        "id": "gKDi0pJ5MgUm",
        "colab": {
          "base_uri": "https://localhost:8080/"
        },
        "outputId": "3ddddebe-8372-4cb3-d9a6-65852324b180"
      },
      "execution_count": 14,
      "outputs": [
        {
          "output_type": "execute_result",
          "data": {
            "text/plain": [
              "0"
            ]
          },
          "metadata": {},
          "execution_count": 14
        }
      ]
    },
    {
      "cell_type": "markdown",
      "source": [
        "- There are zero duplicate rows. "
      ],
      "metadata": {
        "id": "knzjVx8g5hIc"
      }
    },
    {
      "cell_type": "markdown",
      "source": [
        "### Missing Values"
      ],
      "metadata": {
        "id": "y6PS0rog_orE"
      }
    },
    {
      "cell_type": "code",
      "source": [
        "# Checking for missing values\n",
        "adult_df.isna().sum()"
      ],
      "metadata": {
        "id": "dihpi_jgMRGz",
        "colab": {
          "base_uri": "https://localhost:8080/"
        },
        "outputId": "c64a03c1-33a7-4a25-a432-9afd04f07d9e"
      },
      "execution_count": 15,
      "outputs": [
        {
          "output_type": "execute_result",
          "data": {
            "text/plain": [
              "age                0\n",
              "workclass          0\n",
              "fnlwgt             0\n",
              "education          0\n",
              "educational-num    0\n",
              "marital-status     0\n",
              "occupation         0\n",
              "relationship       0\n",
              "race               0\n",
              "gender             0\n",
              "capital-gain       0\n",
              "capital-loss       0\n",
              "hours-per-week     0\n",
              "native-country     0\n",
              "income             0\n",
              "dtype: int64"
            ]
          },
          "metadata": {},
          "execution_count": 15
        }
      ]
    },
    {
      "cell_type": "markdown",
      "source": [
        "- There are 0 missing values"
      ],
      "metadata": {
        "id": "MVNw96Nb6yAU"
      }
    },
    {
      "cell_type": "markdown",
      "source": [
        "## Remove Redundant columns and Data Inconsistencies (Recommended from Amro)"
      ],
      "metadata": {
        "id": "Z9sC5pKfffvm"
      }
    },
    {
      "cell_type": "code",
      "source": [
        "# create a copy of the data\n",
        "census_df = adult_df.copy()"
      ],
      "metadata": {
        "id": "VJCRT_H5ffUY"
      },
      "execution_count": 16,
      "outputs": []
    },
    {
      "cell_type": "code",
      "source": [
        "# drop educational-num column because it is redundant \n",
        "census_df.drop('educational-num', inplace = True, axis =1)"
      ],
      "metadata": {
        "id": "GR79jiY2fz4I"
      },
      "execution_count": 17,
      "outputs": []
    },
    {
      "cell_type": "code",
      "source": [
        "# drop the values of \"?\"\n",
        "census_df = census_df[census_df != '?']\n"
      ],
      "metadata": {
        "id": "Q08boXWMivIU"
      },
      "execution_count": 18,
      "outputs": []
    },
    {
      "cell_type": "markdown",
      "source": [
        "## Column Hours per week to employment status (recommended from Amro)"
      ],
      "metadata": {
        "id": "nqE8T1kWQhav"
      }
    },
    {
      "cell_type": "code",
      "source": [
        "part_time_filter = census_df['hours-per-week']< 35\n",
        "print(sum(part_time_filter))\n",
        "part_time_filter.replace(  {True: 'Part time', False: 'Full time'}  ).value_counts()\n",
        "census_df['employment_status'] = part_time_filter.replace(  {True: 'Part time', False: 'Full time'}  ).value_counts()\n"
      ],
      "metadata": {
        "colab": {
          "base_uri": "https://localhost:8080/"
        },
        "id": "GMBsJYc0lW1u",
        "outputId": "79cd328d-4db0-492a-cb35-eee958fd747f"
      },
      "execution_count": 19,
      "outputs": [
        {
          "output_type": "stream",
          "name": "stdout",
          "text": [
            "8386\n"
          ]
        }
      ]
    },
    {
      "cell_type": "code",
      "source": [
        "# drop the hours-per-week column\n",
        "census_df.drop('hours-per-week', inplace = True, axis =1)"
      ],
      "metadata": {
        "id": "GE3hYi5t9USa"
      },
      "execution_count": 20,
      "outputs": []
    },
    {
      "cell_type": "markdown",
      "source": [
        "## Check for Inconsistencies"
      ],
      "metadata": {
        "id": "u2rO0Ep96M6U"
      }
    },
    {
      "cell_type": "markdown",
      "source": [
        "# Fix the column datatypes"
      ],
      "metadata": {
        "id": "_Tmx2pPREl2u"
      }
    },
    {
      "cell_type": "code",
      "source": [
        "# Check the numeric columns for inconsistencies\n",
        "census_df.describe(include=\"number\")\n"
      ],
      "metadata": {
        "colab": {
          "base_uri": "https://localhost:8080/",
          "height": 300
        },
        "id": "JoejR7hN6L8E",
        "outputId": "bf658d65-35a1-4c78-a630-ca6209c5f008"
      },
      "execution_count": 21,
      "outputs": [
        {
          "output_type": "execute_result",
          "data": {
            "text/plain": [
              "                age        fnlwgt  capital-gain  capital-loss  \\\n",
              "count  48790.000000  4.879000e+04  48790.000000  48790.000000   \n",
              "mean      38.652798  1.896690e+05   1080.217688     87.595573   \n",
              "std       13.708493  1.056172e+05   7455.905921    403.209129   \n",
              "min       17.000000  1.228500e+04      0.000000      0.000000   \n",
              "25%       28.000000  1.175550e+05      0.000000      0.000000   \n",
              "50%       37.000000  1.781385e+05      0.000000      0.000000   \n",
              "75%       48.000000  2.376062e+05      0.000000      0.000000   \n",
              "max       90.000000  1.490400e+06  99999.000000   4356.000000   \n",
              "\n",
              "       employment_status  \n",
              "count                0.0  \n",
              "mean                 NaN  \n",
              "std                  NaN  \n",
              "min                  NaN  \n",
              "25%                  NaN  \n",
              "50%                  NaN  \n",
              "75%                  NaN  \n",
              "max                  NaN  "
            ],
            "text/html": [
              "\n",
              "  <div id=\"df-85b8b145-1dda-4997-b7d3-f50c41177b04\">\n",
              "    <div class=\"colab-df-container\">\n",
              "      <div>\n",
              "<style scoped>\n",
              "    .dataframe tbody tr th:only-of-type {\n",
              "        vertical-align: middle;\n",
              "    }\n",
              "\n",
              "    .dataframe tbody tr th {\n",
              "        vertical-align: top;\n",
              "    }\n",
              "\n",
              "    .dataframe thead th {\n",
              "        text-align: right;\n",
              "    }\n",
              "</style>\n",
              "<table border=\"1\" class=\"dataframe\">\n",
              "  <thead>\n",
              "    <tr style=\"text-align: right;\">\n",
              "      <th></th>\n",
              "      <th>age</th>\n",
              "      <th>fnlwgt</th>\n",
              "      <th>capital-gain</th>\n",
              "      <th>capital-loss</th>\n",
              "      <th>employment_status</th>\n",
              "    </tr>\n",
              "  </thead>\n",
              "  <tbody>\n",
              "    <tr>\n",
              "      <th>count</th>\n",
              "      <td>48790.000000</td>\n",
              "      <td>4.879000e+04</td>\n",
              "      <td>48790.000000</td>\n",
              "      <td>48790.000000</td>\n",
              "      <td>0.0</td>\n",
              "    </tr>\n",
              "    <tr>\n",
              "      <th>mean</th>\n",
              "      <td>38.652798</td>\n",
              "      <td>1.896690e+05</td>\n",
              "      <td>1080.217688</td>\n",
              "      <td>87.595573</td>\n",
              "      <td>NaN</td>\n",
              "    </tr>\n",
              "    <tr>\n",
              "      <th>std</th>\n",
              "      <td>13.708493</td>\n",
              "      <td>1.056172e+05</td>\n",
              "      <td>7455.905921</td>\n",
              "      <td>403.209129</td>\n",
              "      <td>NaN</td>\n",
              "    </tr>\n",
              "    <tr>\n",
              "      <th>min</th>\n",
              "      <td>17.000000</td>\n",
              "      <td>1.228500e+04</td>\n",
              "      <td>0.000000</td>\n",
              "      <td>0.000000</td>\n",
              "      <td>NaN</td>\n",
              "    </tr>\n",
              "    <tr>\n",
              "      <th>25%</th>\n",
              "      <td>28.000000</td>\n",
              "      <td>1.175550e+05</td>\n",
              "      <td>0.000000</td>\n",
              "      <td>0.000000</td>\n",
              "      <td>NaN</td>\n",
              "    </tr>\n",
              "    <tr>\n",
              "      <th>50%</th>\n",
              "      <td>37.000000</td>\n",
              "      <td>1.781385e+05</td>\n",
              "      <td>0.000000</td>\n",
              "      <td>0.000000</td>\n",
              "      <td>NaN</td>\n",
              "    </tr>\n",
              "    <tr>\n",
              "      <th>75%</th>\n",
              "      <td>48.000000</td>\n",
              "      <td>2.376062e+05</td>\n",
              "      <td>0.000000</td>\n",
              "      <td>0.000000</td>\n",
              "      <td>NaN</td>\n",
              "    </tr>\n",
              "    <tr>\n",
              "      <th>max</th>\n",
              "      <td>90.000000</td>\n",
              "      <td>1.490400e+06</td>\n",
              "      <td>99999.000000</td>\n",
              "      <td>4356.000000</td>\n",
              "      <td>NaN</td>\n",
              "    </tr>\n",
              "  </tbody>\n",
              "</table>\n",
              "</div>\n",
              "      <button class=\"colab-df-convert\" onclick=\"convertToInteractive('df-85b8b145-1dda-4997-b7d3-f50c41177b04')\"\n",
              "              title=\"Convert this dataframe to an interactive table.\"\n",
              "              style=\"display:none;\">\n",
              "        \n",
              "  <svg xmlns=\"http://www.w3.org/2000/svg\" height=\"24px\"viewBox=\"0 0 24 24\"\n",
              "       width=\"24px\">\n",
              "    <path d=\"M0 0h24v24H0V0z\" fill=\"none\"/>\n",
              "    <path d=\"M18.56 5.44l.94 2.06.94-2.06 2.06-.94-2.06-.94-.94-2.06-.94 2.06-2.06.94zm-11 1L8.5 8.5l.94-2.06 2.06-.94-2.06-.94L8.5 2.5l-.94 2.06-2.06.94zm10 10l.94 2.06.94-2.06 2.06-.94-2.06-.94-.94-2.06-.94 2.06-2.06.94z\"/><path d=\"M17.41 7.96l-1.37-1.37c-.4-.4-.92-.59-1.43-.59-.52 0-1.04.2-1.43.59L10.3 9.45l-7.72 7.72c-.78.78-.78 2.05 0 2.83L4 21.41c.39.39.9.59 1.41.59.51 0 1.02-.2 1.41-.59l7.78-7.78 2.81-2.81c.8-.78.8-2.07 0-2.86zM5.41 20L4 18.59l7.72-7.72 1.47 1.35L5.41 20z\"/>\n",
              "  </svg>\n",
              "      </button>\n",
              "      \n",
              "  <style>\n",
              "    .colab-df-container {\n",
              "      display:flex;\n",
              "      flex-wrap:wrap;\n",
              "      gap: 12px;\n",
              "    }\n",
              "\n",
              "    .colab-df-convert {\n",
              "      background-color: #E8F0FE;\n",
              "      border: none;\n",
              "      border-radius: 50%;\n",
              "      cursor: pointer;\n",
              "      display: none;\n",
              "      fill: #1967D2;\n",
              "      height: 32px;\n",
              "      padding: 0 0 0 0;\n",
              "      width: 32px;\n",
              "    }\n",
              "\n",
              "    .colab-df-convert:hover {\n",
              "      background-color: #E2EBFA;\n",
              "      box-shadow: 0px 1px 2px rgba(60, 64, 67, 0.3), 0px 1px 3px 1px rgba(60, 64, 67, 0.15);\n",
              "      fill: #174EA6;\n",
              "    }\n",
              "\n",
              "    [theme=dark] .colab-df-convert {\n",
              "      background-color: #3B4455;\n",
              "      fill: #D2E3FC;\n",
              "    }\n",
              "\n",
              "    [theme=dark] .colab-df-convert:hover {\n",
              "      background-color: #434B5C;\n",
              "      box-shadow: 0px 1px 3px 1px rgba(0, 0, 0, 0.15);\n",
              "      filter: drop-shadow(0px 1px 2px rgba(0, 0, 0, 0.3));\n",
              "      fill: #FFFFFF;\n",
              "    }\n",
              "  </style>\n",
              "\n",
              "      <script>\n",
              "        const buttonEl =\n",
              "          document.querySelector('#df-85b8b145-1dda-4997-b7d3-f50c41177b04 button.colab-df-convert');\n",
              "        buttonEl.style.display =\n",
              "          google.colab.kernel.accessAllowed ? 'block' : 'none';\n",
              "\n",
              "        async function convertToInteractive(key) {\n",
              "          const element = document.querySelector('#df-85b8b145-1dda-4997-b7d3-f50c41177b04');\n",
              "          const dataTable =\n",
              "            await google.colab.kernel.invokeFunction('convertToInteractive',\n",
              "                                                     [key], {});\n",
              "          if (!dataTable) return;\n",
              "\n",
              "          const docLinkHtml = 'Like what you see? Visit the ' +\n",
              "            '<a target=\"_blank\" href=https://colab.research.google.com/notebooks/data_table.ipynb>data table notebook</a>'\n",
              "            + ' to learn more about interactive tables.';\n",
              "          element.innerHTML = '';\n",
              "          dataTable['output_type'] = 'display_data';\n",
              "          await google.colab.output.renderOutput(dataTable, element);\n",
              "          const docLink = document.createElement('div');\n",
              "          docLink.innerHTML = docLinkHtml;\n",
              "          element.appendChild(docLink);\n",
              "        }\n",
              "      </script>\n",
              "    </div>\n",
              "  </div>\n",
              "  "
            ]
          },
          "metadata": {},
          "execution_count": 21
        }
      ]
    },
    {
      "cell_type": "code",
      "source": [
        "# Check the object columns for inconsistencies\n",
        "census_df.describe(include=\"object\")\n"
      ],
      "metadata": {
        "colab": {
          "base_uri": "https://localhost:8080/",
          "height": 175
        },
        "outputId": "0ccf9d27-f746-4f51-d9b1-0935e424e67b",
        "id": "9ZGL-xZVCDS1"
      },
      "execution_count": 22,
      "outputs": [
        {
          "output_type": "execute_result",
          "data": {
            "text/plain": [
              "       workclass education      marital-status      occupation relationship  \\\n",
              "count      45995     48790               48790           45985        48790   \n",
              "unique         8        16                   7              14            6   \n",
              "top      Private   HS-grad  Married-civ-spouse  Prof-specialty      Husband   \n",
              "freq       33860     15770               22366            6165        19703   \n",
              "\n",
              "         race gender native-country income  \n",
              "count   48790  48790          47934  48790  \n",
              "unique      5      2             41      2  \n",
              "top     White   Male  United-States  <=50K  \n",
              "freq    41714  32614          43792  37109  "
            ],
            "text/html": [
              "\n",
              "  <div id=\"df-f1a300b7-afb8-48e7-ab07-9ebacc501aae\">\n",
              "    <div class=\"colab-df-container\">\n",
              "      <div>\n",
              "<style scoped>\n",
              "    .dataframe tbody tr th:only-of-type {\n",
              "        vertical-align: middle;\n",
              "    }\n",
              "\n",
              "    .dataframe tbody tr th {\n",
              "        vertical-align: top;\n",
              "    }\n",
              "\n",
              "    .dataframe thead th {\n",
              "        text-align: right;\n",
              "    }\n",
              "</style>\n",
              "<table border=\"1\" class=\"dataframe\">\n",
              "  <thead>\n",
              "    <tr style=\"text-align: right;\">\n",
              "      <th></th>\n",
              "      <th>workclass</th>\n",
              "      <th>education</th>\n",
              "      <th>marital-status</th>\n",
              "      <th>occupation</th>\n",
              "      <th>relationship</th>\n",
              "      <th>race</th>\n",
              "      <th>gender</th>\n",
              "      <th>native-country</th>\n",
              "      <th>income</th>\n",
              "    </tr>\n",
              "  </thead>\n",
              "  <tbody>\n",
              "    <tr>\n",
              "      <th>count</th>\n",
              "      <td>45995</td>\n",
              "      <td>48790</td>\n",
              "      <td>48790</td>\n",
              "      <td>45985</td>\n",
              "      <td>48790</td>\n",
              "      <td>48790</td>\n",
              "      <td>48790</td>\n",
              "      <td>47934</td>\n",
              "      <td>48790</td>\n",
              "    </tr>\n",
              "    <tr>\n",
              "      <th>unique</th>\n",
              "      <td>8</td>\n",
              "      <td>16</td>\n",
              "      <td>7</td>\n",
              "      <td>14</td>\n",
              "      <td>6</td>\n",
              "      <td>5</td>\n",
              "      <td>2</td>\n",
              "      <td>41</td>\n",
              "      <td>2</td>\n",
              "    </tr>\n",
              "    <tr>\n",
              "      <th>top</th>\n",
              "      <td>Private</td>\n",
              "      <td>HS-grad</td>\n",
              "      <td>Married-civ-spouse</td>\n",
              "      <td>Prof-specialty</td>\n",
              "      <td>Husband</td>\n",
              "      <td>White</td>\n",
              "      <td>Male</td>\n",
              "      <td>United-States</td>\n",
              "      <td>&lt;=50K</td>\n",
              "    </tr>\n",
              "    <tr>\n",
              "      <th>freq</th>\n",
              "      <td>33860</td>\n",
              "      <td>15770</td>\n",
              "      <td>22366</td>\n",
              "      <td>6165</td>\n",
              "      <td>19703</td>\n",
              "      <td>41714</td>\n",
              "      <td>32614</td>\n",
              "      <td>43792</td>\n",
              "      <td>37109</td>\n",
              "    </tr>\n",
              "  </tbody>\n",
              "</table>\n",
              "</div>\n",
              "      <button class=\"colab-df-convert\" onclick=\"convertToInteractive('df-f1a300b7-afb8-48e7-ab07-9ebacc501aae')\"\n",
              "              title=\"Convert this dataframe to an interactive table.\"\n",
              "              style=\"display:none;\">\n",
              "        \n",
              "  <svg xmlns=\"http://www.w3.org/2000/svg\" height=\"24px\"viewBox=\"0 0 24 24\"\n",
              "       width=\"24px\">\n",
              "    <path d=\"M0 0h24v24H0V0z\" fill=\"none\"/>\n",
              "    <path d=\"M18.56 5.44l.94 2.06.94-2.06 2.06-.94-2.06-.94-.94-2.06-.94 2.06-2.06.94zm-11 1L8.5 8.5l.94-2.06 2.06-.94-2.06-.94L8.5 2.5l-.94 2.06-2.06.94zm10 10l.94 2.06.94-2.06 2.06-.94-2.06-.94-.94-2.06-.94 2.06-2.06.94z\"/><path d=\"M17.41 7.96l-1.37-1.37c-.4-.4-.92-.59-1.43-.59-.52 0-1.04.2-1.43.59L10.3 9.45l-7.72 7.72c-.78.78-.78 2.05 0 2.83L4 21.41c.39.39.9.59 1.41.59.51 0 1.02-.2 1.41-.59l7.78-7.78 2.81-2.81c.8-.78.8-2.07 0-2.86zM5.41 20L4 18.59l7.72-7.72 1.47 1.35L5.41 20z\"/>\n",
              "  </svg>\n",
              "      </button>\n",
              "      \n",
              "  <style>\n",
              "    .colab-df-container {\n",
              "      display:flex;\n",
              "      flex-wrap:wrap;\n",
              "      gap: 12px;\n",
              "    }\n",
              "\n",
              "    .colab-df-convert {\n",
              "      background-color: #E8F0FE;\n",
              "      border: none;\n",
              "      border-radius: 50%;\n",
              "      cursor: pointer;\n",
              "      display: none;\n",
              "      fill: #1967D2;\n",
              "      height: 32px;\n",
              "      padding: 0 0 0 0;\n",
              "      width: 32px;\n",
              "    }\n",
              "\n",
              "    .colab-df-convert:hover {\n",
              "      background-color: #E2EBFA;\n",
              "      box-shadow: 0px 1px 2px rgba(60, 64, 67, 0.3), 0px 1px 3px 1px rgba(60, 64, 67, 0.15);\n",
              "      fill: #174EA6;\n",
              "    }\n",
              "\n",
              "    [theme=dark] .colab-df-convert {\n",
              "      background-color: #3B4455;\n",
              "      fill: #D2E3FC;\n",
              "    }\n",
              "\n",
              "    [theme=dark] .colab-df-convert:hover {\n",
              "      background-color: #434B5C;\n",
              "      box-shadow: 0px 1px 3px 1px rgba(0, 0, 0, 0.15);\n",
              "      filter: drop-shadow(0px 1px 2px rgba(0, 0, 0, 0.3));\n",
              "      fill: #FFFFFF;\n",
              "    }\n",
              "  </style>\n",
              "\n",
              "      <script>\n",
              "        const buttonEl =\n",
              "          document.querySelector('#df-f1a300b7-afb8-48e7-ab07-9ebacc501aae button.colab-df-convert');\n",
              "        buttonEl.style.display =\n",
              "          google.colab.kernel.accessAllowed ? 'block' : 'none';\n",
              "\n",
              "        async function convertToInteractive(key) {\n",
              "          const element = document.querySelector('#df-f1a300b7-afb8-48e7-ab07-9ebacc501aae');\n",
              "          const dataTable =\n",
              "            await google.colab.kernel.invokeFunction('convertToInteractive',\n",
              "                                                     [key], {});\n",
              "          if (!dataTable) return;\n",
              "\n",
              "          const docLinkHtml = 'Like what you see? Visit the ' +\n",
              "            '<a target=\"_blank\" href=https://colab.research.google.com/notebooks/data_table.ipynb>data table notebook</a>'\n",
              "            + ' to learn more about interactive tables.';\n",
              "          element.innerHTML = '';\n",
              "          dataTable['output_type'] = 'display_data';\n",
              "          await google.colab.output.renderOutput(dataTable, element);\n",
              "          const docLink = document.createElement('div');\n",
              "          docLink.innerHTML = docLinkHtml;\n",
              "          element.appendChild(docLink);\n",
              "        }\n",
              "      </script>\n",
              "    </div>\n",
              "  </div>\n",
              "  "
            ]
          },
          "metadata": {},
          "execution_count": 22
        }
      ]
    },
    {
      "cell_type": "markdown",
      "source": [
        "## Column 8: Race (no visible problems)"
      ],
      "metadata": {
        "id": "MmItzmLmvUSL"
      }
    },
    {
      "cell_type": "code",
      "source": [
        "# Check the 'race' column for inconsistencies\n",
        "census_df['race'].value_counts()"
      ],
      "metadata": {
        "colab": {
          "base_uri": "https://localhost:8080/"
        },
        "id": "iyjCk_uL9V2g",
        "outputId": "de38f3c7-5a64-4c2d-aa0c-77b7a2646054"
      },
      "execution_count": 23,
      "outputs": [
        {
          "output_type": "execute_result",
          "data": {
            "text/plain": [
              "White                 41714\n",
              "Black                  4683\n",
              "Asian-Pac-Islander     1517\n",
              "Amer-Indian-Eskimo      470\n",
              "Other                   406\n",
              "Name: race, dtype: int64"
            ]
          },
          "metadata": {},
          "execution_count": 23
        }
      ]
    },
    {
      "cell_type": "markdown",
      "source": [
        "## Column 7: Relationship (no visible problems)"
      ],
      "metadata": {
        "id": "1ibwiuG_vhAo"
      }
    },
    {
      "cell_type": "code",
      "source": [
        "# Check the 'relationship' column for inconsistencies\n",
        "census_df['relationship'].value_counts()"
      ],
      "metadata": {
        "colab": {
          "base_uri": "https://localhost:8080/"
        },
        "id": "F5GNdkegClg1",
        "outputId": "4251e75d-4c75-40b3-9767-a1aa92e459ff"
      },
      "execution_count": 24,
      "outputs": [
        {
          "output_type": "execute_result",
          "data": {
            "text/plain": [
              "Husband           19703\n",
              "Not-in-family     12557\n",
              "Own-child          7569\n",
              "Unmarried          5124\n",
              "Wife               2331\n",
              "Other-relative     1506\n",
              "Name: relationship, dtype: int64"
            ]
          },
          "metadata": {},
          "execution_count": 24
        }
      ]
    },
    {
      "cell_type": "markdown",
      "source": [
        "## Column 13: Native Country "
      ],
      "metadata": {
        "id": "3Pz3X7_qvq4v"
      }
    },
    {
      "cell_type": "code",
      "source": [
        "#look at values\n",
        "adult_df['native-country'].value_counts()"
      ],
      "metadata": {
        "colab": {
          "base_uri": "https://localhost:8080/"
        },
        "id": "RWC30xxoCy0X",
        "outputId": "1a00d8b4-79e8-4a19-853d-acf091e3eced"
      },
      "execution_count": 25,
      "outputs": [
        {
          "output_type": "execute_result",
          "data": {
            "text/plain": [
              "United-States                 43792\n",
              "Mexico                          943\n",
              "?                               856\n",
              "Philippines                     294\n",
              "Germany                         206\n",
              "Puerto-Rico                     184\n",
              "Canada                          182\n",
              "El-Salvador                     155\n",
              "India                           151\n",
              "Cuba                            138\n",
              "England                         127\n",
              "China                           122\n",
              "South                           115\n",
              "Jamaica                         106\n",
              "Italy                           105\n",
              "Dominican-Republic              103\n",
              "Japan                            92\n",
              "Poland                           87\n",
              "Guatemala                        86\n",
              "Vietnam                          86\n",
              "Columbia                         85\n",
              "Haiti                            75\n",
              "Portugal                         67\n",
              "Taiwan                           65\n",
              "Iran                             59\n",
              "Greece                           49\n",
              "Nicaragua                        49\n",
              "Peru                             46\n",
              "Ecuador                          45\n",
              "France                           38\n",
              "Ireland                          37\n",
              "Hong                             30\n",
              "Thailand                         30\n",
              "Cambodia                         28\n",
              "Trinadad&Tobago                  27\n",
              "Laos                             23\n",
              "Yugoslavia                       23\n",
              "Outlying-US(Guam-USVI-etc)       23\n",
              "Scotland                         21\n",
              "Honduras                         20\n",
              "Hungary                          19\n",
              "Holand-Netherlands                1\n",
              "Name: native-country, dtype: int64"
            ]
          },
          "metadata": {},
          "execution_count": 25
        }
      ]
    },
    {
      "cell_type": "markdown",
      "source": [
        "- Recommended from Amro"
      ],
      "metadata": {
        "id": "Q2W8em7HJMQ7"
      }
    },
    {
      "cell_type": "code",
      "source": [
        "#check that '?' values are removed\n",
        "census_df['native-country'].value_counts()"
      ],
      "metadata": {
        "colab": {
          "base_uri": "https://localhost:8080/"
        },
        "id": "cJAciWuamMNv",
        "outputId": "5bbed28c-1699-4684-9790-91148f3259b4"
      },
      "execution_count": 26,
      "outputs": [
        {
          "output_type": "execute_result",
          "data": {
            "text/plain": [
              "United-States                 43792\n",
              "Mexico                          943\n",
              "Philippines                     294\n",
              "Germany                         206\n",
              "Puerto-Rico                     184\n",
              "Canada                          182\n",
              "El-Salvador                     155\n",
              "India                           151\n",
              "Cuba                            138\n",
              "England                         127\n",
              "China                           122\n",
              "South                           115\n",
              "Jamaica                         106\n",
              "Italy                           105\n",
              "Dominican-Republic              103\n",
              "Japan                            92\n",
              "Poland                           87\n",
              "Vietnam                          86\n",
              "Guatemala                        86\n",
              "Columbia                         85\n",
              "Haiti                            75\n",
              "Portugal                         67\n",
              "Taiwan                           65\n",
              "Iran                             59\n",
              "Greece                           49\n",
              "Nicaragua                        49\n",
              "Peru                             46\n",
              "Ecuador                          45\n",
              "France                           38\n",
              "Ireland                          37\n",
              "Hong                             30\n",
              "Thailand                         30\n",
              "Cambodia                         28\n",
              "Trinadad&Tobago                  27\n",
              "Yugoslavia                       23\n",
              "Outlying-US(Guam-USVI-etc)       23\n",
              "Laos                             23\n",
              "Scotland                         21\n",
              "Honduras                         20\n",
              "Hungary                          19\n",
              "Holand-Netherlands                1\n",
              "Name: native-country, dtype: int64"
            ]
          },
          "metadata": {},
          "execution_count": 26
        }
      ]
    },
    {
      "cell_type": "markdown",
      "source": [
        "### Create continent column (recommended from Amro)"
      ],
      "metadata": {
        "id": "oqiDq7cgm2fu"
      }
    },
    {
      "cell_type": "code",
      "source": [
        "# drop values with 'South'\n",
        "census_df = census_df[census_df != 'South']\n"
      ],
      "metadata": {
        "id": "l-rFthGWqXIZ"
      },
      "execution_count": 27,
      "outputs": []
    },
    {
      "cell_type": "code",
      "source": [
        "mapdictionary = {'Germany': 'Europe', 'United-States': 'US', 'Canada': 'North America',\n",
        "                 'Philippines': 'Pacific', 'Mexico': 'North America', 'Puerto-Rico': 'Caribbean',\n",
        "                 'El-Salvador': 'Latin America', 'India': 'India', 'Cuba': 'Caribbean',\n",
        "                 'England': 'Europe', 'China': 'Asia', 'Jamaica': 'Caribbean',\n",
        "                 'Italy': 'Europe', 'Dominican-Republic': 'Caribbean', 'Japan': 'Asia',\n",
        "                 'Poland': 'Europe', 'Vietnam': 'Asia', 'Guatemala': 'Latin America',\n",
        "                 'Columbia': 'Latin America', 'Haiti': 'Caribbean', 'Portugal': 'Europe',\n",
        "                 'Taiwan': 'Asia', 'Iran':'Asia', 'Greece': 'Europe', 'Nicaragua': 'Latin America',\n",
        "                 'Peru': 'Latin America', 'Ecuador': 'Latin America', 'France': 'Europe',\n",
        "                 'Ireland': 'Europe', 'Hong': 'Asia', 'Thailand': 'Asia', 'Cambodia': 'Asia',\n",
        "                 'Trinadad&Tobago': 'Caribbean', 'Outlying-US(Guam-USVI-etc)': 'US',\n",
        "                 'Laos': 'Asia', 'Scotland': 'Europe', 'Honduras': 'Latin America',\n",
        "                 'Hungary': 'Europe', 'Holand-Netherlands': 'Europe', 'Yugoslavia': 'Europe' }\n",
        "census_df['regions'] = census_df['native-country'].replace(mapdictionary)"
      ],
      "metadata": {
        "id": "BhHfUZ_-m0KY"
      },
      "execution_count": 28,
      "outputs": []
    },
    {
      "cell_type": "code",
      "source": [
        "# check values\n",
        "census_df['regions'].value_counts()"
      ],
      "metadata": {
        "colab": {
          "base_uri": "https://localhost:8080/"
        },
        "outputId": "2b17228a-81b6-467c-f048-3d89170a5f45",
        "id": "6C4utbbjEka5"
      },
      "execution_count": 29,
      "outputs": [
        {
          "output_type": "execute_result",
          "data": {
            "text/plain": [
              "US               43815\n",
              "North America     1125\n",
              "Europe             780\n",
              "Caribbean          633\n",
              "Asia               535\n",
              "Latin America      486\n",
              "Pacific            294\n",
              "India              151\n",
              "Name: regions, dtype: int64"
            ]
          },
          "metadata": {},
          "execution_count": 29
        }
      ]
    },
    {
      "cell_type": "markdown",
      "source": [
        "## Column 1: Work/class "
      ],
      "metadata": {
        "id": "lpYEYtcvv2hD"
      }
    },
    {
      "cell_type": "markdown",
      "source": [],
      "metadata": {
        "id": "TUcnERfKY2Kk"
      }
    },
    {
      "cell_type": "code",
      "source": [
        "# check Work/class column\n",
        "adult_df['workclass'].value_counts()"
      ],
      "metadata": {
        "colab": {
          "base_uri": "https://localhost:8080/"
        },
        "id": "C7cj4cgRtwON",
        "outputId": "45055440-d3ee-4fe7-f90e-087eda4ace63"
      },
      "execution_count": 30,
      "outputs": [
        {
          "output_type": "execute_result",
          "data": {
            "text/plain": [
              "Private             33860\n",
              "Self-emp-not-inc     3861\n",
              "Local-gov            3136\n",
              "?                    2795\n",
              "State-gov            1981\n",
              "Self-emp-inc         1694\n",
              "Federal-gov          1432\n",
              "Without-pay            21\n",
              "Never-worked           10\n",
              "Name: workclass, dtype: int64"
            ]
          },
          "metadata": {},
          "execution_count": 30
        }
      ]
    },
    {
      "cell_type": "markdown",
      "source": [
        "- Recommended from Amro"
      ],
      "metadata": {
        "id": "jM1cVRdNJX7L"
      }
    },
    {
      "cell_type": "code",
      "source": [
        "#drop never worked and without pay because irrelevant for target\n",
        "census_df = census_df[census_df[\"workclass\"].str.contains(\"Without-pay\") == False]\n",
        "census_df = census_df[census_df[\"workclass\"].str.contains(\"Never-worked\") == False]\n"
      ],
      "metadata": {
        "id": "zxs5teJJF13-"
      },
      "execution_count": 31,
      "outputs": []
    },
    {
      "cell_type": "code",
      "source": [
        "census_df['workclass'].value_counts()"
      ],
      "metadata": {
        "colab": {
          "base_uri": "https://localhost:8080/"
        },
        "id": "3ROABShGHTPv",
        "outputId": "3db0a427-40d1-449f-b2ea-c6d7de729281"
      },
      "execution_count": 32,
      "outputs": [
        {
          "output_type": "execute_result",
          "data": {
            "text/plain": [
              "Private             33860\n",
              "Self-emp-not-inc     3861\n",
              "Local-gov            3136\n",
              "State-gov            1981\n",
              "Self-emp-inc         1694\n",
              "Federal-gov          1432\n",
              "Name: workclass, dtype: int64"
            ]
          },
          "metadata": {},
          "execution_count": 32
        }
      ]
    },
    {
      "cell_type": "markdown",
      "source": [
        "## Column 3: Education (no visible problems)"
      ],
      "metadata": {
        "id": "xifOrRRkwElR"
      }
    },
    {
      "cell_type": "code",
      "source": [
        "# check education\n",
        "adult_df['education'].value_counts()"
      ],
      "metadata": {
        "colab": {
          "base_uri": "https://localhost:8080/"
        },
        "outputId": "0d272ff9-22c6-4ece-b7a7-e98a98250b0b",
        "id": "fx_cghs3uRLX"
      },
      "execution_count": 33,
      "outputs": [
        {
          "output_type": "execute_result",
          "data": {
            "text/plain": [
              "HS-grad         15770\n",
              "Some-college    10863\n",
              "Bachelors        8013\n",
              "Masters          2656\n",
              "Assoc-voc        2060\n",
              "11th             1812\n",
              "Assoc-acdm       1601\n",
              "10th             1389\n",
              "7th-8th           954\n",
              "Prof-school       834\n",
              "9th               756\n",
              "12th              655\n",
              "Doctorate         594\n",
              "5th-6th           507\n",
              "1st-4th           245\n",
              "Preschool          81\n",
              "Name: education, dtype: int64"
            ]
          },
          "metadata": {},
          "execution_count": 33
        }
      ]
    },
    {
      "cell_type": "markdown",
      "source": [
        "- No noticeable problems with these values. "
      ],
      "metadata": {
        "id": "53lAGxJrueZE"
      }
    },
    {
      "cell_type": "markdown",
      "source": [
        "### Create educational groups (Recommended from Amro)"
      ],
      "metadata": {
        "id": "XqqXhXpfI5wF"
      }
    },
    {
      "cell_type": "markdown",
      "source": [
        "- Professional programs generally require a college degree before you start them and then at least three years of study to complete"
      ],
      "metadata": {
        "id": "PpgQ7buNK781"
      }
    },
    {
      "cell_type": "code",
      "source": [
        "eddictionary = {'HS-grad': 'HS-grad', '1st-4th': 'primary', '5th-6th': 'primary',\n",
        "                 '7th-8th': 'secondary', '9th': 'secondary', '12th': 'secondary',\n",
        "                 'Preschool': 'primary', 'Doctorate': 'Graduate', 'Prof-school': 'Graduate',\n",
        "                 '11th': 'secondary', 'Bachelors': 'College', 'Masters': 'Graduate',\n",
        "                 'Some-college': 'HS-grad', 'Assoc-voc': 'College', 'Assoc-voc': 'College',\n",
        "                 '10th': 'secondary', 'Grad-school': 'Graduate', 'Assoc-acdm':'College' }\n",
        "census_df['edstatus'] = census_df['education'].replace(eddictionary)\n",
        "census_df['edstatus'].value_counts()"
      ],
      "metadata": {
        "colab": {
          "base_uri": "https://localhost:8080/"
        },
        "id": "pn4nHRrsI_fk",
        "outputId": "4d0dd970-9506-4218-bd9c-e8f24bf17d68"
      },
      "execution_count": 34,
      "outputs": [
        {
          "output_type": "execute_result",
          "data": {
            "text/plain": [
              "HS-grad      24965\n",
              "College      11265\n",
              "secondary     4995\n",
              "Graduate      3975\n",
              "primary        764\n",
              "Name: edstatus, dtype: int64"
            ]
          },
          "metadata": {},
          "execution_count": 34
        }
      ]
    },
    {
      "cell_type": "markdown",
      "source": [
        "## Column 6: Occupation"
      ],
      "metadata": {
        "id": "M-0rCH7AwMe8"
      }
    },
    {
      "cell_type": "code",
      "source": [
        "# check occupation column\n",
        "adult_df['occupation'].value_counts()"
      ],
      "metadata": {
        "colab": {
          "base_uri": "https://localhost:8080/"
        },
        "outputId": "4515634b-4a52-4696-fe9f-352990cb19af",
        "id": "NQMYTZdOuoDa"
      },
      "execution_count": 35,
      "outputs": [
        {
          "output_type": "execute_result",
          "data": {
            "text/plain": [
              "Prof-specialty       6165\n",
              "Craft-repair         6102\n",
              "Exec-managerial      6082\n",
              "Adm-clerical         5606\n",
              "Sales                5501\n",
              "Other-service        4919\n",
              "Machine-op-inspct    3017\n",
              "?                    2805\n",
              "Transport-moving     2355\n",
              "Handlers-cleaners    2071\n",
              "Farming-fishing      1485\n",
              "Tech-support         1445\n",
              "Protective-serv       982\n",
              "Priv-house-serv       240\n",
              "Armed-Forces           15\n",
              "Name: occupation, dtype: int64"
            ]
          },
          "metadata": {},
          "execution_count": 35
        }
      ]
    },
    {
      "cell_type": "markdown",
      "source": [
        "- There are 2805 '?' to be addressed"
      ],
      "metadata": {
        "id": "oOujFHaouzFQ"
      }
    },
    {
      "cell_type": "code",
      "source": [
        "# check Work/class column\n",
        "census_df['workclass'].value_counts()"
      ],
      "metadata": {
        "colab": {
          "base_uri": "https://localhost:8080/"
        },
        "outputId": "a09541f4-ebe1-4b9b-b233-d36775c58a96",
        "id": "amh9LKp_unfU"
      },
      "execution_count": 36,
      "outputs": [
        {
          "output_type": "execute_result",
          "data": {
            "text/plain": [
              "Private             33860\n",
              "Self-emp-not-inc     3861\n",
              "Local-gov            3136\n",
              "State-gov            1981\n",
              "Self-emp-inc         1694\n",
              "Federal-gov          1432\n",
              "Name: workclass, dtype: int64"
            ]
          },
          "metadata": {},
          "execution_count": 36
        }
      ]
    },
    {
      "cell_type": "markdown",
      "source": [
        "## Column 9: Gender "
      ],
      "metadata": {
        "id": "m2YgukPGxG_u"
      }
    },
    {
      "cell_type": "code",
      "source": [
        "# check gender column\n",
        "adult_df['gender'].value_counts()"
      ],
      "metadata": {
        "colab": {
          "base_uri": "https://localhost:8080/"
        },
        "outputId": "70f9be37-7a49-4c35-d754-c00be2bdfd20",
        "id": "d_ViaQcrumvj"
      },
      "execution_count": 37,
      "outputs": [
        {
          "output_type": "execute_result",
          "data": {
            "text/plain": [
              "Male      32614\n",
              "Female    16176\n",
              "Name: gender, dtype: int64"
            ]
          },
          "metadata": {},
          "execution_count": 37
        }
      ]
    },
    {
      "cell_type": "markdown",
      "source": [
        "## Column 14: Income (Target)"
      ],
      "metadata": {
        "id": "HAfFpre5xXeb"
      }
    },
    {
      "cell_type": "code",
      "source": [
        "# check income column\n",
        "adult_df['income'].value_counts()"
      ],
      "metadata": {
        "colab": {
          "base_uri": "https://localhost:8080/"
        },
        "id": "l6Dwk98sxQq6",
        "outputId": "c16a0cfd-0e6f-4999-f7d3-1f8400f875c7"
      },
      "execution_count": 38,
      "outputs": [
        {
          "output_type": "execute_result",
          "data": {
            "text/plain": [
              "<=50K    37109\n",
              ">50K     11681\n",
              "Name: income, dtype: int64"
            ]
          },
          "metadata": {},
          "execution_count": 38
        }
      ]
    },
    {
      "cell_type": "markdown",
      "source": [
        "# Exploratory Visuals"
      ],
      "metadata": {
        "id": "Whb7EdcwIm6u"
      }
    },
    {
      "cell_type": "markdown",
      "source": [
        "### Visual #1: Age"
      ],
      "metadata": {
        "id": "j1ZIVHCEGua2"
      }
    },
    {
      "cell_type": "code",
      "source": [
        "#histogram for Age\n",
        "adult_df['age'].hist(bins = 25)\n",
        "plt.ticklabel_format(useOffset=False, style='plain')\n",
        "plt.title ('Age of Participants')\n",
        "plt.ylabel('Number of People')\n",
        "plt.xlabel(\"Age\");"
      ],
      "metadata": {
        "colab": {
          "base_uri": "https://localhost:8080/",
          "height": 405
        },
        "id": "y81P-3GiwBCw",
        "outputId": "7fa36f63-b0d7-455a-e6f9-4594dd4fe14c"
      },
      "execution_count": 83,
      "outputs": [
        {
          "output_type": "display_data",
          "data": {
            "text/plain": [
              "<Figure size 576x396 with 1 Axes>"
            ],
            "image/png": "[encoded data removed]"
          },
          "metadata": {}
        }
      ]
    },
    {
      "cell_type": "markdown",
      "source": [
        "- There is a significant skew to the left. The majority of the participants are under 50. There was also a significant number of people under 30. Between  the ages of 20 and 50, there are at least 2,500 poeple in each bin. \n",
        "- Action plan: The signinficant number of people  in the  bins under 50 merit more analysis. "
      ],
      "metadata": {
        "id": "1n0yF8HO6oH6"
      }
    },
    {
      "cell_type": "markdown",
      "source": [
        "### Visual #2: Race"
      ],
      "metadata": {
        "id": "6R_awz-UJaNu"
      }
    },
    {
      "cell_type": "code",
      "source": [
        "#create race countplot\n",
        "sns.set_context('talk')\n",
        "with plt.style.context('seaborn-white'):\n",
        "  fig, ax =plt.subplots()\n",
        "plt.rcParams['font.family'] = 'serif'\n",
        "ax = sns.countplot(data=adult_df,x='race')\n",
        "ax.set_title('Race Demographics', fontfamily='serif',fontsize = 20, fontweight = 'bold');\n",
        "ax.set_xlabel('Race', fontfamily= 'serif', fontsize = 15, fontweight = 'bold')\n",
        "plt.xlabel('Racial Category')\n",
        "plt.ylabel('Number of People')\n",
        "plt.xticks(rotation = 45);\n",
        "ax.spines['right'].set_visible(False)\n",
        "ax.spines['top'].set_visible(False) "
      ],
      "metadata": {
        "id": "3-ejwmoyJqLH",
        "colab": {
          "base_uri": "https://localhost:8080/",
          "height": 494
        },
        "outputId": "3ad6e312-c4ef-48e3-c907-28e73136a259"
      },
      "execution_count": 96,
      "outputs": [
        {
          "output_type": "display_data",
          "data": {
            "text/plain": [
              "<Figure size 576x396 with 1 Axes>"
            ],
            "image/png": "[encoded data removed]"
          },
          "metadata": {}
        }
      ]
    },
    {
      "cell_type": "markdown",
      "source": [
        "- This countplot shows the white category at the  highest count and seems not to match the actual US statistics. \n",
        "- Action plan: I would want to see if there is a relationship between income and racial categories. "
      ],
      "metadata": {
        "id": "iPmE8qAT4B6Y"
      }
    },
    {
      "cell_type": "markdown",
      "source": [
        "### Visual #7: Gender"
      ],
      "metadata": {
        "id": "pv9K08M4KKRL"
      }
    },
    {
      "cell_type": "code",
      "source": [
        "#create race countplot\n",
        "sns.set_context('talk')\n",
        "with plt.style.context('seaborn-white'):\n",
        "  fig, ax =plt.subplots()\n",
        "plt.rcParams['font.family'] = 'serif'\n",
        "ax = sns.countplot(data=adult_df,x='gender')\n",
        "ax.set_title('Gender Demogrpahics', fontfamily='serif',fontsize = 20, fontweight = 'bold');\n",
        "ax.set_xlabel('Gender', fontfamily= 'serif', fontsize = 15, fontweight = 'bold')\n",
        "plt.ylabel('Number of Participants')\n",
        "plt.xticks(rotation = 45);\n",
        "ax.spines['right'].set_visible(False)\n",
        "ax.spines['top'].set_visible(False) "
      ],
      "metadata": {
        "id": "1OKwElzRKOsk",
        "colab": {
          "base_uri": "https://localhost:8080/",
          "height": 427
        },
        "outputId": "4250fc6c-7c80-4969-a6f7-7dff99771612"
      },
      "execution_count": 97,
      "outputs": [
        {
          "output_type": "display_data",
          "data": {
            "text/plain": [
              "<Figure size 576x396 with 1 Axes>"
            ],
            "image/png": "[encoded data removed]"
          },
          "metadata": {}
        }
      ]
    },
    {
      "cell_type": "markdown",
      "source": [
        "- This countplot shows a heavy weighting of males in the dataset that does not correlate to US Census data.\n",
        "- Action plan: Look at gender and income. "
      ],
      "metadata": {
        "id": "Ov5t_X5KqsAD"
      }
    },
    {
      "cell_type": "markdown",
      "source": [
        "# Summary and Further Recommendations\n",
        "\n",
        "\n",
        "1.   The data is heavily skewed to United States as native country\n",
        "2.   The age category may be significant in looking at income.\n",
        "3.   Education needs a simplified graphic.\n",
        "4.   Relationship, race, gender need to be investigatd more \n",
        "\n",
        "\n",
        "\n",
        "\n",
        "\n",
        "\n"
      ],
      "metadata": {
        "id": "kYBDBYyPFqpB"
      }
    },
    {
      "cell_type": "markdown",
      "source": [
        "## Additional  Better Visuals for the new data columns"
      ],
      "metadata": {
        "id": "L0LNSGRfinkE"
      }
    },
    {
      "cell_type": "code",
      "source": [
        "#create countplot for education\n",
        "sns.set_context('talk')\n",
        "with plt.style.context('seaborn-white'):\n",
        "  fig, ax =plt.subplots()\n",
        "plt.rcParams['font.family'] = 'serif'\n",
        "ax = sns.countplot(data=census_df,x='edstatus')\n",
        "ax.set_title('Education Status', fontfamily='serif',fontsize = 20, fontweight = 'bold');\n",
        "ax.set_xlabel('Education by category', fontfamily= 'serif', fontsize = 15, fontweight = 'bold')\n",
        "plt.xticks(rotation = 55);\n",
        "ax.spines['right'].set_visible(False)\n",
        "ax.spines['top'].set_visible(False) "
      ],
      "metadata": {
        "colab": {
          "base_uri": "https://localhost:8080/",
          "height": 448
        },
        "id": "04FIvmsyjAwy",
        "outputId": "37351b8a-48c6-4769-ac4c-ccb4120956f8"
      },
      "execution_count": 61,
      "outputs": [
        {
          "output_type": "display_data",
          "data": {
            "text/plain": [
              "<Figure size 576x396 with 1 Axes>"
            ],
            "image/png": "[encoded data removed]"
          },
          "metadata": {}
        }
      ]
    },
    {
      "cell_type": "markdown",
      "source": [
        "- This countplot clearly shows  the bigger quantity of the high school grads. However this does not match the census bureau statistics. https://www.census.gov/newsroom/press-releases/2022/educational-attainment.html#:~:text=Data%20Highlights-,Age,highest%20level%20of%20school%20completed.\n",
        "- Action plan: Explore the relationship between education and income."
      ],
      "metadata": {
        "id": "IMk8k_xfoKgN"
      }
    },
    {
      "cell_type": "markdown",
      "source": [
        "## Visuals for Part 3"
      ],
      "metadata": {
        "id": "GKCXEpcIKrv1"
      }
    },
    {
      "cell_type": "markdown",
      "source": [
        "## Heatmap"
      ],
      "metadata": {
        "id": "CsllD7AGfzEA"
      }
    },
    {
      "cell_type": "code",
      "source": [
        "#create a heatmap\n",
        "corr = census_df.corr()\n",
        "\n",
        "sns.heatmap(corr, cmap = 'Greens', annot = True)"
      ],
      "metadata": {
        "colab": {
          "base_uri": "https://localhost:8080/",
          "height": 533
        },
        "id": "eWE8sqG8elh-",
        "outputId": "6a0fa0ec-dd8a-49be-b650-6fc72c953b92"
      },
      "execution_count": 66,
      "outputs": [
        {
          "output_type": "execute_result",
          "data": {
            "text/plain": [
              "<AxesSubplot:>"
            ]
          },
          "metadata": {},
          "execution_count": 66
        },
        {
          "output_type": "display_data",
          "data": {
            "text/plain": [
              "<Figure size 576x396 with 2 Axes>"
            ],
            "image/png": "[encoded data removed]"
          },
          "metadata": {}
        }
      ]
    },
    {
      "cell_type": "markdown",
      "source": [
        "- The heatmap is inconclusive becasuse many of the variable are not continuous/numeric.  There are no moderate or strong correlations. "
      ],
      "metadata": {
        "id": "rD20iXQ0e42R"
      }
    },
    {
      "cell_type": "markdown",
      "source": [
        "## Visual #1: Income and Age"
      ],
      "metadata": {
        "id": "2yuI0QHwXbqt"
      }
    },
    {
      "cell_type": "code",
      "source": [
        "#Plot Income by employment and age\n",
        "sns.barplot(data = census_df, x = 'income', y = 'age',ci=None)\n",
        "plt.title('Work and Life Balance: Income and Age')\n",
        "plt.xticks(rotation = 55);\n",
        "plt.xlabel(\"Income (USD)\")\n",
        "plt.ylabel(\"Age\");"
      ],
      "metadata": {
        "colab": {
          "base_uri": "https://localhost:8080/",
          "height": 448
        },
        "id": "AYV4F5qaP889",
        "outputId": "f1f23336-d5af-4970-bd4a-b2eeeaa9df45"
      },
      "execution_count": 70,
      "outputs": [
        {
          "output_type": "display_data",
          "data": {
            "text/plain": [
              "<Figure size 576x396 with 1 Axes>"
            ],
            "image/png": "[encoded data removed]"
          },
          "metadata": {}
        }
      ]
    },
    {
      "cell_type": "markdown",
      "source": [
        "- This barplot shows a relationship between income and age\n",
        "- Action: Investigate whether other factors impact income. "
      ],
      "metadata": {
        "id": "RMCpfZ3Lr1HD"
      }
    },
    {
      "cell_type": "code",
      "source": [
        "#Visual for race\n",
        "fig, ax = plt.subplots(figsize=(15,15))\n",
        "\n",
        "sns.barplot(data = census_df, x = 'race', y = 'age', hue ='income', ci=None)\n",
        "plt.xticks(rotation = 55);\n",
        "plt.xlabel(\"Race\")\n",
        "plt.title('Income and Age Related to Racial Identity')\n",
        "print(census_df['race'].value_counts())"
      ],
      "metadata": {
        "colab": {
          "base_uri": "https://localhost:8080/",
          "height": 1000
        },
        "id": "s9Amq0GrtHI3",
        "outputId": "641fe49a-92e2-45fd-d76f-d4dbd56494c6"
      },
      "execution_count": 75,
      "outputs": [
        {
          "output_type": "stream",
          "name": "stdout",
          "text": [
            "White                 39381\n",
            "Black                  4353\n",
            "Asian-Pac-Islander     1420\n",
            "Amer-Indian-Eskimo      435\n",
            "Other                   375\n",
            "Name: race, dtype: int64\n"
          ]
        },
        {
          "output_type": "display_data",
          "data": {
            "text/plain": [
              "<Figure size 1080x1080 with 1 Axes>"
            ],
            "image/png": "[encoded data removed]"
          },
          "metadata": {}
        }
      ]
    },
    {
      "cell_type": "markdown",
      "source": [
        "- This graph clearly shows that age and income are related but there are other questions. It appears that indiviuals over 40 are more likely to be at highter income level of >50K.\n",
        "- Action Plan:  Does gender matter? Does education matter?"
      ],
      "metadata": {
        "id": "LiU7v_dIbEqk"
      }
    },
    {
      "cell_type": "markdown",
      "source": [
        "## Visual #2:"
      ],
      "metadata": {
        "id": "g6p4KpZlXt3n"
      }
    },
    {
      "cell_type": "code",
      "source": [
        "fig, axes = plt.subplots(nrows = 2, figsize = (20,15))\n",
        "\n",
        "sns.barplot(data = census_df, x = 'gender', y = 'age', hue='income', ci=None, ax = axes[0])\n",
        "axes[0].set_title('Gender vs. Age', fontsize = 15, fontweight = 'bold')\n",
        "\n",
        "\n",
        "sns.barplot(data = census_df, x = 'edstatus', y = 'age', hue='income', ci=None, ax = axes[1])\n",
        "axes[1].set_title('Education vs. Age', fontsize = 15, fontweight = 'bold')\n",
        "\n",
        "plt.xlabel(\"Educational Category\")\n",
        "\n",
        "\n",
        "fig.suptitle('Age and Income Comparing Gender and Education', fontsize = 20, fontweight = 'bold', y = 1.05)\n",
        "\n",
        "fig.tight_layout()"
      ],
      "metadata": {
        "colab": {
          "base_uri": "https://localhost:8080/",
          "height": 904
        },
        "id": "xdE3Kx7rU9yG",
        "outputId": "b36dc6ae-761a-4087-cdd1-d6fc0a6e9757"
      },
      "execution_count": 72,
      "outputs": [
        {
          "output_type": "display_data",
          "data": {
            "text/plain": [
              "<Figure size 1440x1080 with 2 Axes>"
            ],
            "image/png": "[encoded data removed]"
          },
          "metadata": {}
        }
      ]
    },
    {
      "cell_type": "markdown",
      "source": [
        "- These two graphs further explore the questions of income and age looking at gender and education.   While ideas about the gender gap are relevant, age  still appears signficant in the first barplot. The next question about education also supports a correlation between age and income as primary and education as secondary  factor. American demographics are close to even in biological sex. From looking at my gender graphs, an inconsitency emerges. Males seems double to females in a simple exploratory visual and this inconstitency limits the ability to draw insights. (https://www.statista.com/statistics/241495/us-population-by-sex/#:~:text=As%20of%20July%201%2C%202021,has%20remained%20steady%20since%202010.).\n",
        "- The  possible story of the American Dream in this dataset  is that if you over 40 you can make more than 50K regardless if you are hightly educated.  You   have a slightly better chance if you are male. although the race demographics are skewed (this data shows it less than 9% and actual statistics are closer to 14%), this data reinforces the problems of racial bias in income equality. \n"
      ],
      "metadata": {
        "id": "7c5no_e0bn-1"
      }
    }
  ]
}